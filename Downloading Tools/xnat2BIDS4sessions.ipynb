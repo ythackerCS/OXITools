{
 "cells": [
  {
   "cell_type": "code",
   "execution_count": 2,
   "metadata": {},
   "outputs": [],
   "source": [
    "import os \n",
    "import shutil\n",
    "\n",
    "#DO NOT EDIT BELOW SCROLL DOWN\n",
    "\n",
    "def moveSessionInfo(sessionFolder, subjectsFolder):\n",
    "    for dirs in os.walk(pathtoSessionFolder):\n",
    "        dirpath=dirs[0]\n",
    "        if 'files' in dirpath:\n",
    "            dirpath = dirpath.replace(\"\\\\\", \"/\")\n",
    "            dirpathComponents = dirpath.split(\"/\")\n",
    "            scanName = dirpathComponents[-4]\n",
    "            sessionName = dirpathComponents[-6]\n",
    "            scanNameSplit=scanName.split('-')\n",
    "            scanName=\"-\".join(scanNameSplit[0:2])\n",
    "            files = os.listdir(dirpath)\n",
    "            files = [f for f in files if os.path.isfile(dirpath+'/'+f)]\n",
    "            for file in files:\n",
    "                if \"sub\" in file:\n",
    "                    subjectName = file.split(\"_\")[0]\n",
    "                    break\n",
    "            scanFolderBIDS=\"{subject}/{session}/{scan}/nirs\".format(subject=subjectName,session=sessionName,scan=scanName)\n",
    "            sessionFolderToMakeBIDS=pathToBIDSReconstruction+\"/Session_BIDS/\"+scanFolderBIDS\n",
    "            if not os.path.exists(sessionFolderToMakeBIDS):\n",
    "                print(\"Folder does not exist making folder\")\n",
    "                os.makedirs(sessionFolderToMakeBIDS)\n",
    "                if os.path.exists(sessionFolderToMakeBIDS):\n",
    "                    print(\"Folder made successfully\")\n",
    "            for file in files:\n",
    "                filetoCopy=dirpath+\"/\"+file\n",
    "                shutil.copy2(filetoCopy,sessionFolderToMakeBIDS)\n",
    "\n",
    "\n",
    "\n",
    "#TO EDIT: \n",
    "# NOTE: This script is only to convert SINGLE sessions that you have downloaded using the manage files table under one specific session. If you downloaded multiple sessions using the download manager, either using zip or desktop client please us the multi session BIDS organizer notebook. \n",
    "#Path to the session folder that you downloaded\n",
    "pathtoSessionFolder=\"/path/to/session/folder\"\n",
    "\n",
    "pathToBIDSReconstruction= \"/path/to/store/converted/structure\"\n",
    "\n",
    "#ONCE YOU HAVE EDITED ABOVE RUN THE CELL\n",
    "\n",
    "os.mkdir(pathToBIDSReconstruction+\"/Session_BIDS\")\n",
    "\n",
    "\n",
    "moveSessionInfo(pathtoSessionFolder,pathToBIDSReconstruction)"
   ]
  }
 ],
 "metadata": {
  "kernelspec": {
   "display_name": "Python 3",
   "language": "python",
   "name": "python3"
  },
  "language_info": {
   "codemirror_mode": {
    "name": "ipython",
    "version": 3
   },
   "file_extension": ".py",
   "mimetype": "text/x-python",
   "name": "python",
   "nbconvert_exporter": "python",
   "pygments_lexer": "ipython3",
   "version": "3.10.5"
  }
 },
 "nbformat": 4,
 "nbformat_minor": 2
}
