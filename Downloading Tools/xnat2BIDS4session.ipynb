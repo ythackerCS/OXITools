{
 "cells": [
  {
   "cell_type": "code",
   "execution_count": null,
   "metadata": {},
   "outputs": [],
   "source": [
    "import os \n",
    "import shutil\n",
    "\n",
    "#DO NOT EDIT BELOW SCROLL DOWN\n",
    "\n",
    "def moveSessionInfo(sessionFolder, subjectsFolder):\n",
    "    for dirs in os.walk(pathtoSessionFolder):\n",
    "        dirpath=dirs[0]\n",
    "        if 'files' in dirpath:\n",
    "            dirpath = dirpath.replace(\"\\\\\", \"/\")\n",
    "            dirpathComponents = dirpath.split(\"/\")\n",
    "            scanName = dirpathComponents[-4]\n",
    "            subSessName = dirpathComponents[-6].split(\"_\")\n",
    "            scanNameSplit=scanName.split('-')\n",
    "            scanName=\"-\".join(scanNameSplit[0:2])\n",
    "            subjectName=subSessName[0]\n",
    "            sessionName=subSessName[1]\n",
    "            files = os.listdir(dirpath)\n",
    "            files = [f for f in files if os.path.isfile(dirpath+'/'+f)]\n",
    "            scanFolderBIDS=\"{subject}/{session}/{scan}/nirs\".format(subject=subjectName,session=sessionName,scan=scanName)\n",
    "            sessionFolderToMakeBIDS=pathToBIDSReconstruction+\"/Session_BIDS/\"+scanFolderBIDS\n",
    "            if not os.path.exists(sessionFolderToMakeBIDS):\n",
    "                print(\"Folder does not exist making folder\")\n",
    "                os.makedirs(sessionFolderToMakeBIDS)\n",
    "                if os.path.exists(sessionFolderToMakeBIDS):\n",
    "                    print(\"Folder made successfully\")\n",
    "            for file in files:\n",
    "                filetoCopy=dirpath+\"/\"+file\n",
    "                shutil.copy2(filetoCopy,sessionFolderToMakeBIDS)\n",
    "\n",
    "\n",
    "\n",
    "#TO EDIT: \n",
    "# NOTE: This script is only to convert SINGLE sessions that you have downloaded using the bulk actions menu under one specific session. If you downloaded multiple sessions using the download manager, either using zip or desktop client, or if you used the downloads button under manage files please us the multi Subjects and sessions BIDS organizer notebook. This works for scans where there are no results folders, if you have results folders please use the multisubjectsandsessions2bid notebook and download the data using the download images tab\n",
    "\n",
    "#Path to the session folder that you downloaded\n",
    "pathtoSessionFolder=\"/path/to/downloaded/data/folder\"\n",
    "\n",
    "#Path where the reconstructured bids structure will be made\n",
    "pathToBIDSReconstruction= \"/path/to/store/converted/structure\"\n",
    "\n",
    "#ONCE YOU HAVE EDITED ABOVE RUN THE CELL\n",
    "bidsReconstructionPath=pathToBIDSReconstruction+\"/Session_BIDS\"\n",
    "if not os.path.exists(bidsReconstructionPath):\n",
    "    os.makedirs(bidsReconstructionPath)\n",
    "else:\n",
    "    confirm=input(\"WARNING: FOLDER ALREADY EXISTS AND MAY CONTAIN DATA THAT WILL BE MERGED TYPE 'y' to continue or 'n' to exit. Would you like to continue data will be mearged y/n\")\n",
    "    options = ['y', 'n']\n",
    "    while confirm not in options:\n",
    "        confirm=input(\"Would you like to continue data will be mearged y/n\")\n",
    "if confirm == \"n\":\n",
    "        print(\"Converstion was not completed since response was 'n'\")\n",
    "else:\n",
    "    moveSessionInfo(pathtoSessionFolder,pathToBIDSReconstruction)\n"
   ]
  }
 ],
 "metadata": {
  "kernelspec": {
   "display_name": "Python 3",
   "language": "python",
   "name": "python3"
  },
  "language_info": {
   "codemirror_mode": {
    "name": "ipython",
    "version": 3
   },
   "file_extension": ".py",
   "mimetype": "text/x-python",
   "name": "python",
   "nbconvert_exporter": "python",
   "pygments_lexer": "ipython3",
   "version": "3.10.5"
  }
 },
 "nbformat": 4,
 "nbformat_minor": 2
}
