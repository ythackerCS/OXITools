{
 "cells": [
  {
   "cell_type": "code",
   "execution_count": 75,
   "metadata": {},
   "outputs": [
    {
     "name": "stdout",
     "output_type": "stream",
     "text": [
      "Copying default params from:  /Users/Yash/Documents/OXI Tools/params.txt  to  /Users/Yash/Documents/OXI Tools/testNoPrams/sub-01/ses-01/scan-01/nirs\n",
      "Copying default params from:  /Users/Yash/Documents/OXI Tools/params.txt  to  /Users/Yash/Documents/OXI Tools/testNoPrams/sub-01/ses-01/scan-02/nirs\n",
      "Copying default params from:  /Users/Yash/Documents/OXI Tools/params.txt  to  /Users/Yash/Documents/OXI Tools/testNoPrams/sub-02/ses-02/scan-01/nirs\n",
      "Copying default params from:  /Users/Yash/Documents/OXI Tools/params.txt  to  /Users/Yash/Documents/OXI Tools/testNoPrams/sub-02/ses-01/scan-01/nirs\n"
     ]
    }
   ],
   "source": [
    "import os\n",
    "import platform\n",
    "import shutil\n",
    "\n",
    "from numpy import size \n",
    "\n",
    "\n",
    "#Thigs to edit: \n",
    "pathToData = \"/Users/Yash/Documents/OXI Tools/testNoPrams/\"\n",
    "\n",
    "#If you provide a default Params that file will be copied into any subject nirs folder that does not have one\n",
    "pathToDeafultParams=\"/Users/Yash/Documents/OXI Tools/params.txt\"\n",
    "\n",
    "\n",
    "\n",
    "#Script For validation\n",
    "\n",
    "for dirs in os.walk(pathToData):\n",
    "    dirpath = dirs[0]\n",
    "    dirpath = dirpath.replace(\"\\\\\", \"/\")\n",
    "\n",
    "    # #Verfiy no sub/sess/scan name is repeated: \n",
    "    # # folders = os.listdir(dirpath)\n",
    "    # folders = [f for f in os.listdir(dirpath) if not os.path.isfile(os.path.join(dirpath, f))]\n",
    "    # print(folders)\n",
    "\n",
    "    files = [f for f in os.listdir(dirpath) if os.path.isfile(os.path.join(dirpath, f))]\n",
    "    files.remove('.DS_Store')\n",
    "    if size(files) > 0:\n",
    "\n",
    "        #verify there are no files in the wrong place\n",
    "        if 'nirs' not in dirpath:\n",
    "            print(\"There is an error in your file structure there are file(s) present in folder, \", dirpath, \" that should not be there\")\n",
    "        if 'nirs' in dirpath:\n",
    "            dirpathComponents = dirpath.split(\"/\")\n",
    "            nirsfolder = dirpathComponents[-1]\n",
    "            scanfolder = dirpathComponents[-2]\n",
    "            sessionfolder = dirpathComponents[-3]\n",
    "            subjectfolder = dirpathComponents[-4]\n",
    "            \n",
    "            if 'nirs' not in nirsfolder:\n",
    "                print(\"The nirs folder is not named correctly at: \", dirpath, \" please make sure folder name is 'nirs'\")\n",
    "            if 'scan-' not in scanfolder:\n",
    "                print(\"The scan folder is not named correctly at: \", dirpath, \" please make sure folder name is 'scan-####' where ## are unique numbers as ids\")\n",
    "            if 'ses-' not in sessionfolder:\n",
    "                print(\"The session folder is not named correctly at: \", dirpath, \" please make sure folder name is 'ses-####' where ## are unique numbers as ids\")\n",
    "            if 'sub-' not in subjectfolder:\n",
    "                print(\"The subject folder is not named correctly at: \", dirpath, \" please make sure folder name is 'sub-####' where ## are unique numbers as ids\")\n",
    "\n",
    "            files = [f for f in os.listdir(dirpath) if os.path.isfile(os.path.join(dirpath, f))]\n",
    "            files.remove('.DS_Store')\n",
    "            # print(files)\n",
    "            paramsPresent = [True for f in files if 'params' in f]\n",
    "            if True not in paramsPresent:\n",
    "                if pathToDeafultParams == \"\": \n",
    "                    print(\"params.txt is missing for scan: \", dirpath)\n",
    "                else:\n",
    "                    print(\"Copying default params from: \", pathToDeafultParams, \" to \", dirpath)\n",
    "                    shutil.copy(pathToDeafultParams, dirpath)\n",
    "            else:\n",
    "                files.remove('params.txt')\n",
    "\n",
    "            if '.snirf' not in files[0] and '.nirs' not in files[0] and '.mat' not in files[0]: \n",
    "                print(\"Scan folder does not have nirs/snirf/ndot files: \", dirpath)\n",
    "\n",
    "\n",
    "your_os = platform.platform()\n",
    "\n"
   ]
  },
  {
   "cell_type": "code",
   "execution_count": null,
   "metadata": {},
   "outputs": [],
   "source": []
  }
 ],
 "metadata": {
  "kernelspec": {
   "display_name": "Python 3",
   "language": "python",
   "name": "python3"
  },
  "language_info": {
   "codemirror_mode": {
    "name": "ipython",
    "version": 3
   },
   "file_extension": ".py",
   "mimetype": "text/x-python",
   "name": "python",
   "nbconvert_exporter": "python",
   "pygments_lexer": "ipython3",
   "version": "3.10.5"
  }
 },
 "nbformat": 4,
 "nbformat_minor": 2
}
